{
 "cells": [
  {
   "cell_type": "code",
   "execution_count": 3,
   "metadata": {
    "kernel": "octave"
   },
   "outputs": [],
   "source": [
    "% Esta funcion verifica que una matriz sea del\n",
    "% tipo: diagonalmente dominante. \n",
    "%\n",
    "% Es decir, el valor absoluto del elemento de\n",
    "% la diogonal, es mayor a la suma de los \n",
    "% valores en valor absoluto del resto de la \n",
    "% fila.\n",
    "%\n",
    "% Firma: bool = vf_diag_dom(A,b)\n",
    "% \n",
    "% Entradas: \n",
    "%   A = matriz de coeficientes\n",
    "%   m = cantidad de filas \n",
    "%            \n",
    "% Salida:                           \n",
    "%   bool = valor booleano (1 o 0)\n",
    "\n",
    "function bool = vf_diag_dom(A, m)\n",
    "    bool = 0;\n",
    "\n",
    "    for (i = 1 : m)\n",
    "        ed = abs(A(i, i));\n",
    "        suma = sum(abs(A(i, :))) - ed;\n",
    "        if (suma < ed)\n",
    "            bool = 1;\n",
    "            continue;\n",
    "        else\n",
    "            bool = 0;\n",
    "            break;\n",
    "        end\n",
    "    end\n",
    "end"
   ]
  },
  {
   "cell_type": "code",
   "execution_count": 10,
   "metadata": {
    "kernel": "octave"
   },
   "outputs": [],
   "source": [
    "% Esta funcion encuentra la solucion a un sistema \n",
    "% de ecuaciones representado mediante la expresion:\n",
    "% A * x = b, utilizando el metodo de Jacobi.\n",
    "%\n",
    "% El metodo de Jacobi utiliza la siguiente formula:\n",
    "% -> A * x = b   \n",
    "% -> (M - N) * x = b\n",
    "% -> M * x = (N * x) + b\n",
    "% -> x = (M^-1 * N * x) + (M^-1 * b)\n",
    "% \n",
    "% donde:\n",
    "%\n",
    "% -> M^-1 = matriz diagonal inversa\n",
    "% -> N = matriz A con diagonal de ceros y valores negativos\n",
    "%\n",
    "% Para el cálculo de la norma, se aplica la formula \n",
    "% Euclidiana o norma 2. \n",
    "%\n",
    "% Firma: xk = jacobi(A,b)\n",
    "% \n",
    "% Entradas: \n",
    "%   A = matriz de coeficientes\n",
    "%   b = vector de valores independientes\n",
    "%            \n",
    "% Salida:                           \n",
    "%   xk = vector de incognitas\n",
    "\n",
    "function xk = jacobi(A, b)\n",
    "    % declaracion: vector resultante\n",
    "    xk = [];\n",
    "\n",
    "    % calculo: dimensiones de la matriz A %\n",
    "    [m, n] = size(A);\n",
    "    \n",
    "     % verificacion: matriz debe ser cuadrada %\n",
    "    if (m != n)                    \n",
    "        display(\"La matriz no es cuadrada.\")\n",
    "        return;\n",
    "\n",
    "    % verificacion: matriz debe ser invertible %    \n",
    "    elseif ( det(A) == 0)               \n",
    "        display(\"La matriz no es invertible.\")\n",
    "        return;\n",
    "\n",
    "    % verificacion: la matriz debe ser diagnonalmente dominante\n",
    "    elseif(!vf_diag_dom(A, m))\n",
    "        display(\"La matriz no es diagonalmente dominante.\")\n",
    "        return;\n",
    "\n",
    "    % verificacion: el vector b debe coinicidir con la matriz %\n",
    "    elseif (n != size(b, 1))           \n",
    "        display(\"El vector de coeficientes no coincide.\")\n",
    "        return;\n",
    "    \n",
    "    % si cumple las conficiones, ejecuta el metodo de jacobi:\n",
    "    else\n",
    "    \n",
    "        % declaracion: vector inicial\n",
    "        x0 = zeros(m, 1);\n",
    "\n",
    "        % declaracion: matrices M y N\n",
    "        M = diag((diag(A)));\n",
    "        N = M - A;\n",
    "\n",
    "        % declaracion: matriz inversa de M\n",
    "        d = diag(M);\n",
    "        Minv = diag(1./d);\n",
    "\n",
    "        % asignacion: vector resultante\n",
    "        xk = x0;\n",
    "\n",
    "        % declaracion: tolerancia\n",
    "        tol = 10^-8;\n",
    "\n",
    "        % declaracion: vector de error\n",
    "        err = tol + 1;;\n",
    "        e = [];\n",
    "\n",
    "        % declaracion: numero de iteraciones realizadas\n",
    "        iter = 0;\n",
    "\n",
    "        while(tol < err)\n",
    "            xk = (Minv * N * xk) + (Minv * b);\n",
    "            err = norm(A * xk - b);\n",
    "            e = [e err];\n",
    "            ++iter;\n",
    "        end\n",
    "\n",
    "        iter\n",
    "        % grafica: \n",
    "        plot(1 : iter, e)\n",
    "        xlabel('Iteraciones')\n",
    "        ylabel('Error: (||A_x^k||)')\n",
    "    end\n",
    "end\n",
    "\n",
    "% A = [5,1 ,1; 1, 5, 1; 1, 1, 5]\n",
    "% b = [7; 7; 7]\n",
    "\n",
    "% x = jacobi(A, b)"
   ]
  },
  {
   "cell_type": "code",
   "execution_count": 11,
   "metadata": {
    "kernel": "octave"
   },
   "outputs": [
    {
     "name": "stdout",
     "output_type": "stream",
     "text": [
      "iter =  23\r\n",
      "x =\r\n",
      "\r\n",
      "   1.0000\r\n",
      "   1.0000\r\n",
      "   1.0000\r\n",
      "\r\n"
     ]
    },
    {
     "data": {
      "image/png": "[encoded data removed]",
      "text/plain": [
       "<IPython.core.display.Image object>"
      ]
     },
     "metadata": {},
     "output_type": "display_data"
    }
   ],
   "source": [
    "A = [5,1 ,1; 1, 5, 1; 1, 1, 5];\n",
    "b = [7; 7; 7];\n",
    "\n",
    "x = jacobi(A, b)"
   ]
  },
  {
   "cell_type": "code",
   "execution_count": null,
   "metadata": {
    "kernel": "octave"
   },
   "outputs": [],
   "source": []
  }
 ],
 "metadata": {
  "kernelspec": {
   "display_name": "SoS",
   "language": "sos",
   "name": "sos"
  },
  "language_info": {
   "codemirror_mode": "sos",
   "file_extension": ".sos",
   "mimetype": "text/x-sos",
   "name": "sos",
   "nbconvert_exporter": "sos_notebook.converter.SoS_Exporter",
   "pygments_lexer": "sos"
  },
  "sos": {
   "kernels": [
    [
     "octave",
     "octave",
     "octave",
     "",
     ""
    ]
   ],
   "panel": {
    "displayed": true,
    "height": 0
   },
   "version": "0.20.1"
  }
 },
 "nbformat": 4,
 "nbformat_minor": 4
}
