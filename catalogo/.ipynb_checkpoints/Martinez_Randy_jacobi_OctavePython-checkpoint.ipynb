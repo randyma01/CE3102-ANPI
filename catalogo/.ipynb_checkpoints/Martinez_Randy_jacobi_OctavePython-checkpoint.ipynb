{
 "cells": [
  {
   "cell_type": "markdown",
   "metadata": {
    "kernel": "SoS"
   },
   "source": [
    "<h1 style=\"text-align: center; color: #000000;\">\n",
    "    <strong>Método Iterativo de Solución de Ecuaciones: Jacobi</strong>\n",
    "</h1>"
   ]
  },
  {
   "cell_type": "markdown",
   "metadata": {
    "kernel": "SoS"
   },
   "source": [
    "<span style=\"font-size: 12.0pt\">\n",
    "    <ul>\n",
    "        <li style=\"margin: 2rem\"> \n",
    "            <strong>Curso:</strong> \n",
    "            [CE-3102] - Análisis Numéricos para Ingeniería\n",
    "        </li>\n",
    "        <li style=\"margin: 2rem\"> \n",
    "            <strong>Estudiante: </strong> \n",
    "            [2014047395] - Randy Alejandro Martínez Sandí\n",
    "        </li>\n",
    "        <li style=\"margin: 2rem\"> \n",
    "            <strong>Evaluación: </strong> \n",
    "            Catálago Grupal\n",
    "        </li>\n",
    "        <li style=\"margin: 2rem\"> \n",
    "            <strong>Fecha: </strong>\n",
    "            6 de noviembre, 2020\n",
    "        </li>\n",
    "    </ul>\n",
    "</span>"
   ]
  },
  {
   "cell_type": "markdown",
   "metadata": {
    "kernel": "SoS"
   },
   "source": [
    "<span style=\"font-size: 12.0pt; color: #000000\">\n",
    "    <h2 style=\"text-align: center;\">\n",
    "        <span>\n",
    "            <strong>Contenidos</strong>\n",
    "        </span>\n",
    "    </h2>\n",
    "     \n",
    "[<strong>1. Análisis Matemático</strong>](#ac)\n",
    "    \n",
    "[<strong>2. Características</strong>](#ca)\n",
    "\n",
    "[<strong>3. Diagrama de Flujo</strong>](#df)\n",
    "\n",
    "[<strong>4. Código: GNU Octave (v5.2.0)</strong>](#om)\n",
    "\n",
    "[<strong>5. Código: Python (v3.8.3)</strong>](#py)\n",
    "\n",
    "[<strong>6. Ejemplo Numérico</strong>](#em)\n",
    "    \n",
    "[<strong>7. Referencias Bibliográficas</strong>](#rf)\n",
    "\n",
    "</span>    "
   ]
  },
  {
   "cell_type": "markdown",
   "metadata": {
    "kernel": "SoS"
   },
   "source": [
    "<span style=\"color: #676767\">\n",
    "<a id='ac'></a>\n",
    "<h2>\n",
    "    <span>\n",
    "        <span style=\"text-decoration: underline;\">\n",
    "            <strong>1. Análisis Matemático</strong> \n",
    "        </span>\n",
    "    </span>\n",
    "</h2>\n",
    "</span>"
   ]
  },
  {
   "cell_type": "markdown",
   "metadata": {
    "kernel": "SoS"
   },
   "source": [
    "<span style=\"color: #838383\">\n",
    "<a id=\"mat\"></a>\n",
    "<h2>\n",
    "    <span>\n",
    "        <strong>1.1 Matrices</strong> \n",
    "    </span>\n",
    "</h2>\n",
    "</span>"
   ]
  },
  {
   "cell_type": "markdown",
   "metadata": {
    "kernel": "SoS"
   },
   "source": [
    "<span style=\"font-size: 12.0pt; line-height: 150%\">\n",
    "\n",
    "Todo sistema de ecuaciones, por ejemplo;\n",
    "\n",
    "$$\n",
    "\\left.\n",
    "2x_1 + x_2  = 1 \\atop\n",
    "x_1 + x_2 = 4\n",
    "\\right\\}\n",
    "$$\n",
    "\n",
    "tiene una representación matricial de la forma:\n",
    "    \n",
    "$$\n",
    "\\begin{equation*}\n",
    "\\begin{pmatrix}\n",
    "2 & 1 \\\\\n",
    "1 & 1 \\\\\n",
    "\\end{pmatrix}\n",
    "\\times\n",
    "\\begin{pmatrix} \n",
    "x_1 \\\\\n",
    "x_2 \n",
    "\\end{pmatrix}\n",
    "=\n",
    "\\begin{pmatrix} \n",
    "1 \\\\\n",
    "4 \n",
    "\\end{pmatrix}\n",
    "\\end{equation*}\n",
    "$$\n",
    "\n",
    "Donde: \n",
    "    \n",
    "  - La primera matriz (llamada matriz de coeficientes) representa los coeficientes de la ecuación. \n",
    "    Esta se representa con la letra:\n",
    "    **A**\n",
    "\n",
    "    \n",
    "    \n",
    "  - La segunda matriz (llamada matriz de incógnitas) representa los valores a determinar. \n",
    "     Esta se representa con la letra:\n",
    "    **x**\n",
    "    \n",
    "    \n",
    "    \n",
    "  - La tercera matriz (llamada matriz de términos independientes) representa la igualdad de cada ecuación.\n",
    "     Esta se representa con la letra:\n",
    "    **b**\n",
    "\n",
    "De las matrices anteriores, se puede obtener la ecuación:\n",
    "\n",
    "$$ \n",
    "\\begin{equation*}\n",
    "Ax = b\n",
    "\\end{equation*}\n",
    "$$\n",
    "    \n",
    "Esto es, para toda matriz de tamaño MxM, es decir: misma cantidad de columnas y filas. Asimismo, la cantidad de filas para la matriz de términos independientes.  \n",
    "    \n",
    "En otras palabras, el número de ecuaciones independientes y el número de incógnitas deben ser las mismas. \n",
    "\n",
    "</span>"
   ]
  },
  {
   "cell_type": "markdown",
   "metadata": {
    "kernel": "SoS"
   },
   "source": [
    "<span style=\"color: #838383\">\n",
    "<a id=\"jac\"></a>\n",
    "<h2>\n",
    "    <span>\n",
    "        <strong>1.2 Solución de Matrices: Jacobi</strong> \n",
    "    </span>\n",
    "</h2>\n",
    "</span>"
   ]
  },
  {
   "cell_type": "markdown",
   "metadata": {
    "kernel": "SoS"
   },
   "source": [
    "<span style=\"font-size: 12.0pt\">\n",
    "\n",
    "Hay múltiples formas de resolver la ecuación anterior. Un enfoque es utilizar iteraciones para aproximar la solución. Conmunmente, se utilizan sumas sucesivas. Los métodos iterativos tienen a seguir el siguiente esquema:\n",
    "    \n",
    "Aa matriz A se puede descomponener así:\n",
    "     \n",
    "$$\n",
    "\\begin{equation*}\n",
    "A = L + D + U\n",
    "\\end{equation*}\n",
    "$$\n",
    "    \n",
    "donde: \n",
    "    \n",
    "  -  **L** es la matriz de A, pero únicamente con los valores debajo de la diagonal\n",
    "    \n",
    "    \n",
    "  -  **D** es la matriz de A, pero únicamente con los valores de la diagonal\n",
    "    \n",
    "    \n",
    "  -  **U** es la matriz de A, pero únicamente con los valores arriba de la diagonal\n",
    "    \n",
    "El método de Jacobi se basa en la siguiente expresión:\n",
    "    \n",
    "$$\n",
    "\\begin{equation*}\n",
    "A = M - N\n",
    "\\end{equation*}\n",
    "$$\n",
    "\n",
    "donde, \n",
    "    \n",
    "$$\n",
    "\\begin{equation*}\n",
    "M = D  \\\\\n",
    "N = -(L + U)\n",
    "\\end{equation*}\n",
    "$$\n",
    "\n",
    "    \n",
    "Ahora, partiendo de la ecuación:\n",
    "    \n",
    "$$\n",
    "\\begin{equation*}\n",
    "Ax = b\n",
    "\\end{equation*}\n",
    "$$\n",
    "    \n",
    "despejando **A**, se obtiene la igualdad de:\n",
    "    \n",
    "$$\n",
    "\\begin{equation*}\n",
    "x = A^{-1}b\n",
    "\\end{equation*}\n",
    "$$\n",
    "\n",
    "Si se sustituye el valor de **A**, de la expresión de Jacobi, se obtiene que:   \n",
    "        \n",
    "$$\n",
    "\\begin{equation*}\n",
    "x = (M - N)^{-1}b\\\\\n",
    "x = M^{-1}b + N^{-1}b\n",
    "\\end{equation*}\n",
    "$$\n",
    "    \n",
    "y si se vuelve a a sustituir los valores **M** y  **N**, se obtiene:\n",
    "    \n",
    "$$\n",
    "\\begin{equation*}\n",
    "x = D^{-1} N x + D^{-1} b \\\\\n",
    "\\\\\n",
    "x = -D^{-1} (L + U) x + D^{-1} b\n",
    "\\end{equation*}\n",
    "$$   \n",
    "\n",
    "    \n",
    "Al ser una iteración, la fórmula final seria:\n",
    "    \n",
    "$$\n",
    "\\left.\n",
    "x^{(k+1)} = -D^{-1} (L + U) x^{(k)} + D^{-1} b \\atop\n",
    "x^{0} \\in R^{n}\n",
    "\\right\\}\n",
    "$$   \n",
    "    \n",
    "\n",
    "Donde, el vector \n",
    "\n",
    "$$\n",
    "x^{0} \\in R^{n}\n",
    "$$\n",
    "\n",
    "corresponde a vector inicial, está compuesto de ceros y es de tamaño de la cantidad de incógnitas del sistema de ecuaciones.\n",
    " \n",
    "Además, \n",
    "\n",
    "$$\n",
    "x^{k}\n",
    "$$\n",
    "\n",
    "representa el valor anterior calculado, iniciando con el vector inicial y, \n",
    "    \n",
    "$$\n",
    "x^{k+1}\n",
    "$$\n",
    "\n",
    "representa el último, k-ésimo, valor calculado. \n",
    "    \n",
    "\n",
    "</span>"
   ]
  },
  {
   "cell_type": "markdown",
   "metadata": {
    "kernel": "SoS"
   },
   "source": [
    "<span style=\"color: #676767\">\n",
    "<a id='ca'></a>\n",
    "<h2>\n",
    "    <span>\n",
    "        <span style=\"text-decoration: underline;\">\n",
    "            <strong>2. Características</strong> \n",
    "        </span>\n",
    "    </span>\n",
    "</h2>\n",
    "</span>"
   ]
  },
  {
   "cell_type": "markdown",
   "metadata": {
    "kernel": "SoS"
   },
   "source": [
    "<span style=\"color: #838383\">\n",
    "<a id=\"con\"></a>\n",
    "<h2>\n",
    "    <span>\n",
    "        <strong>2.1 Convergencia</strong> \n",
    "    </span>\n",
    "</h2>\n",
    "</span>"
   ]
  },
  {
   "cell_type": "markdown",
   "metadata": {
    "kernel": "SoS"
   },
   "source": [
    "<span style=\"font-size: 12.0pt\">\n",
    "\n",
    "El método de Jacobi tiene una convergencia hacia las matrices diagonalmente dominantes.\n",
    "    \n",
    "Una matriz diagonalmente dominante es aquella donde el valor absoluto del elemento de la diagonal es mayor a la suma de lso valores absolutos de los demás elementos de una fila dada.\n",
    "    \n",
    "Si se aplica el método de Jacobi a una matriz con esta característica, siempre se va a obtner un cálculo aproximado de la solcuión al sistema.\n",
    "    \n",
    "En caso de que la matriz no sea diagonalmente dominante, puede que converga a la solución así como pueda que diverga.\n",
    "    \n",
    "Es por eso que al convergencia tiende a estas matrices.\n",
    "\n",
    "</span>"
   ]
  },
  {
   "cell_type": "markdown",
   "metadata": {
    "kernel": "SoS"
   },
   "source": [
    "<span style=\"color: #838383\">\n",
    "<a id=\"cri\"></a>\n",
    "<h2>\n",
    "    <span>\n",
    "        <strong>2.2 Criterio de Parada</strong> \n",
    "    </span>\n",
    "</h2>\n",
    "</span>"
   ]
  },
  {
   "cell_type": "markdown",
   "metadata": {
    "kernel": "SoS"
   },
   "source": [
    "<span style=\"font-size: 12.0pt; line-height: 150%\">\n",
    "\n",
    "El métood de Jacobi al ser un método iteravo, va a repetirse una cantidad \"n\" de veces, hasta llegar a su criterio de parada, el cual es:\n",
    "    \n",
    "$$\n",
    "error absoluto < tolerancia\n",
    "$$\n",
    "\n",
    "donde la **tolerancia**, que es dada, debe ser mayor al **error absoluto**, donde este es la norma de la expresión:\n",
    "    \n",
    "$$\n",
    "Ax^{k} - b\n",
    "$$\n",
    "\n",
    "Por lo tanto, de manera formal, el criterio de parada es:\n",
    " \n",
    "$$\n",
    "||Ax^{(k)} - b|| < tol\n",
    "$$\n",
    "    \n",
    "La norma a aplicar para el cálculo del valor absoluto queda a decisión subjetiva. Se recomienda utilizar la norma 2, también llamada norma Euclidiana. \n",
    "\n",
    "</span>"
   ]
  },
  {
   "cell_type": "markdown",
   "metadata": {
    "kernel": "SoS"
   },
   "source": [
    "<span style=\"color: #838383\">\n",
    "<a id=\"dvs\"></a>\n",
    "<h2>\n",
    "    <span>\n",
    "        <strong>2.3 Ventajas y desventajas</strong> \n",
    "    </span>\n",
    "</h2>\n",
    "</span>"
   ]
  },
  {
   "cell_type": "markdown",
   "metadata": {
    "kernel": "SoS"
   },
   "source": [
    "<span style=\"font-size: 12.0pt; line-height: 150%\">\n",
    "\n",
    "**Ventajas**:\n",
    "    \n",
    "- Realiza pocas operaciones matriciales.\n",
    "    \n",
    "    \n",
    "- El margen de error puede llegar a ser muy pequeño.\n",
    "    \n",
    "    \n",
    "- De no requerir mucha presición, pueden hacer pocas iteraciones, reduciendo el proceso. \n",
    "\n",
    "\n",
    "**Desventajas**:\n",
    "- Al ser un metodo iterativo puede consumir muchosos recursos, convirtiéndolo computacionalmente pesado.\n",
    "    \n",
    "    \n",
    "- Su convergencia es estricta, debido a que en muchos casos diverge.\n",
    "    \n",
    "    \n",
    "- El tiempo de cálculo y la precisión del resultado pueden depender de la elección de ciertos parámetros       como: la tolerancia.\n",
    "    \n",
    "</span>"
   ]
  },
  {
   "cell_type": "markdown",
   "metadata": {
    "kernel": "SoS"
   },
   "source": [
    "<span style=\"color: #676767\">\n",
    "    <a id='df'></a>\n",
    "    <h2>\n",
    "        <span>\n",
    "            <span style=\"text-decoration: underline;\">\n",
    "                <strong>3. Diagrama de Flujo</strong> \n",
    "            </span>\n",
    "        </span>\n",
    "    </h2>\n",
    "</span>"
   ]
  },
  {
   "cell_type": "markdown",
   "metadata": {
    "kernel": "SoS"
   },
   "source": [
    "<span style=\"font-size: 12.0pt\">\n",
    "    \n",
    "Acontinuación se muestra el diagrama de flujo del método de Jacobi. \n",
    "    \n",
    "Este tiene el enfoque según las condiciones explicadas en el 1. Análisis Matemético y dirigido hacia la implementación de código que se muestran en las secciones [4. Código: GNU Octave (v5.2.0)](#om) y [5. Código: Python (v3.8.3)](#py)\n",
    "\n",
    "</span>"
   ]
  },
  {
   "attachments": {
    "diagrama_flujo_jacobi.jpeg": {
     "image/jpeg": "[encoded data removed]"
    }
   },
   "cell_type": "markdown",
   "metadata": {
    "kernel": "SoS"
   },
   "source": [
    "<span style=\"font-size: 12.0pt\">\n",
    "    <div>\n",
    "        <img src=\"attachment:diagrama_flujo_jacobi.jpeg\" width=\"500\"/>\n",
    "    </div>\n",
    "\n",
    "</span>"
   ]
  },
  {
   "cell_type": "markdown",
   "metadata": {
    "kernel": "SoS"
   },
   "source": [
    "<span style=\"color: #676767\">\n",
    "    <a id='om'></a>\n",
    "    <h2>\n",
    "        <span>\n",
    "            <span style=\"text-decoration: underline;\">\n",
    "                <strong>4. Código: GNU Octave (v5.2.0)</strong> \n",
    "            </span>\n",
    "        </span>\n",
    "    </h2>\n",
    "</span>"
   ]
  },
  {
   "cell_type": "markdown",
   "metadata": {
    "kernel": "SoS"
   },
   "source": [
    "<span style=\"font-size: 12.0pt\">\n",
    "    \n",
    "Acontinuación se muestra código de la implementación del método de Jacobi para el lenguaje de programación en GNU Octave en la versión 5.2.0. \n",
    "\n",
    "Este consiste en dos funciones:\n",
    "    \n",
    "- **vf_diag_dom.m**: Verifica que dada una matriz, esta sea diagnomalmente dominante.\n",
    "    \n",
    "    \n",
    "- **jacobi.m**: Realiza el cálculo de la solución de un sistema de ecuaciones. \n",
    "    \n",
    "    \n",
    "Para demostración su funcionamiento, se va a calcular la solución del siguiente sistema de ecuaciones:\n",
    "\n",
    "$$\n",
    "\\begin{equation*}\n",
    "\\begin{pmatrix}\n",
    "5 & 1 & 1 \\\\\n",
    "1 & 5 & 1 \\\\\n",
    "1 & 1 & 5 \\\\\n",
    "\\end{pmatrix}\n",
    "\\times\n",
    "\\begin{pmatrix} \n",
    "x_1 \\\\\n",
    "x_2 \\\\\n",
    "x_3 \\\\\n",
    "\\end{pmatrix}\n",
    "=\n",
    "\\begin{pmatrix} \n",
    "7 \\\\\n",
    "7 \\\\\n",
    "7\n",
    "\\end{pmatrix}\n",
    "\\end{equation*}\n",
    "$$\n",
    "\n",
    "donde su solución es la matriz columna:\n",
    "\n",
    "$$\n",
    "\\begin{equation*}\n",
    "\\begin{pmatrix}\n",
    "x_1 \\\\\n",
    "x_2 \\\\\n",
    "x_3 \\\\\n",
    "\\end{pmatrix}\n",
    "=\n",
    "\\begin{pmatrix} \n",
    "-1 \\\\\n",
    "-1 \\\\\n",
    "-1 \\\\\n",
    "\\end{pmatrix}\n",
    "\\end{equation*}\n",
    "$$\n",
    "    \n",
    "    \n",
    "Asimismo se muestra una gráfica del Error vs Iteraciones, para ilustrar el comportamiento de la función al usar la norma Euclidiana.\n",
    "    \n",
    "</span>"
   ]
  },
  {
   "cell_type": "code",
   "execution_count": 14,
   "metadata": {
    "kernel": "octave"
   },
   "outputs": [],
   "source": [
    "% Esta funcion verifica que una matriz sea del\n",
    "% tipo: diagonalmente dominante. \n",
    "%\n",
    "% Es decir, el valor absoluto del elemento de\n",
    "% la diogonal, es mayor a la suma de los \n",
    "% valores en valor absoluto del resto de la \n",
    "% fila.\n",
    "%\n",
    "% Firma: \n",
    "%   bool = vf_diag_dom(A,b)\n",
    "% \n",
    "% Entradas: \n",
    "%   A = matriz de coeficientes\n",
    "%   m = cantidad de filas \n",
    "%            \n",
    "% Salida:                           \n",
    "%   bool = valor booleano (1 o 0)\n",
    "\n",
    "function bool = vf_diag_dom(A, m)\n",
    "\n",
    "    % declaracion: valor resultante %\n",
    "    bool = 0;\n",
    "\n",
    "    % iteracion: recorrido de la matriz, mientras %\n",
    "    % se verifica por filas que la matriz sea     %\n",
    "    % diagonalmente dominante                     %\n",
    "    for (i = 1 : m)\n",
    "        % declaracion: elemento de la diagonal %\n",
    "        ed = abs(A(i, i));\n",
    "        \n",
    "        % declaracion: suma de los elementos de una %\n",
    "        % fila excluyendo el elemento diagonal      %\n",
    "        suma = sum(abs(A(i, :))) - ed;\n",
    "        \n",
    "        % verificacion: siempre que el elemento diagonal %\n",
    "        % sea mayor sigue, en caso contrario se sale del %\n",
    "        % del ciclo                                      %\n",
    "        if (suma < ed)\n",
    "            bool = 1;\n",
    "            continue;\n",
    "        else\n",
    "            bool = 0;\n",
    "            break;\n",
    "        end\n",
    "    end\n",
    "end"
   ]
  },
  {
   "cell_type": "code",
   "execution_count": 15,
   "metadata": {
    "kernel": "octave"
   },
   "outputs": [],
   "source": [
    "% Esta funcion encuentra la solucion a un sistema \n",
    "% de ecuaciones representado mediante la expresion:\n",
    "% A * x = b, utilizando el metodo de Jacobi.\n",
    "%\n",
    "% El metodo de Jacobi utiliza la siguiente formula:\n",
    "% -> A * x = b   \n",
    "% -> (M - N) * x = b\n",
    "% -> M * x = (N * x) + b\n",
    "% -> x = (M^-1 * N * x) + (M^-1 * b)\n",
    "% \n",
    "% donde:\n",
    "%\n",
    "% -> M^-1 = matriz diagonal inversa\n",
    "% -> N = matriz A con diagonal de ceros y valores negativos\n",
    "%\n",
    "% Para el cálculo de la norma, se aplica la formula \n",
    "% Euclidiana o norma 2. \n",
    "%\n",
    "% Firma: xk = jacobi(A,b)\n",
    "% \n",
    "% Entradas: \n",
    "%   A = matriz de coeficientes\n",
    "%   b = vector de valores independientes\n",
    "%            \n",
    "% Salida:                           \n",
    "%   xk = vector de incognitas\n",
    "\n",
    "function xk = jacobi(A, b)\n",
    "\n",
    "    % declaracion: vector resultante %\n",
    "    xk = [];\n",
    "\n",
    "    % calculo: dimensiones de la matriz A %\n",
    "    [m, n] = size(A);\n",
    "    \n",
    "     % verificacion: matriz debe ser cuadrada %\n",
    "    if (m != n)                    \n",
    "        display(\"La matriz no es cuadrada.\")\n",
    "        return;\n",
    "\n",
    "    % verificacion: matriz debe ser invertible %    \n",
    "    elseif (det(A) == 0)               \n",
    "        display(\"La matriz no es invertible.\")\n",
    "        return;\n",
    "\n",
    "    % verificacion: la matriz debe ser diagnonalmente dominante %\n",
    "    elseif (!vf_diag_dom(A, m))\n",
    "        display(\"La matriz no es diagonalmente dominante.\")\n",
    "        return;\n",
    "\n",
    "    % verificacion: el vector b debe coinicidir con la matriz %\n",
    "    elseif (n != size(b, 1))           \n",
    "        display(\"El vector de valores independientes no coincide.\")\n",
    "        return;\n",
    "    \n",
    "    % si cumple las condiciones, ejecuta el metodo de jacobi %\n",
    "    else\n",
    "    \n",
    "        % declaracion: vector inicial %\n",
    "        x0 = zeros(m, 1);\n",
    "\n",
    "        % asignacion: vector resultante %\n",
    "        xk = x0;\n",
    "\n",
    "        % declaracion: matrices M y N %\n",
    "        M = diag((diag(A)));\n",
    "        N = M - A;\n",
    "\n",
    "        % declaracion: matriz inversa de M %\n",
    "        d = diag(M);\n",
    "        Minv = diag(1./d);\n",
    "\n",
    "        % declaracion: tolerancia %\n",
    "        tol = 10^-8;\n",
    "\n",
    "        % declaracion: vector de error %\n",
    "        err = tol + 1;;\n",
    "        e = [];\n",
    "\n",
    "        % declaracion: numero de iteraciones realizadas %\n",
    "        iter = 0;\n",
    "\n",
    "        % iteracion: mientras el error sea mayor que la %\n",
    "        % tolerancia se ejecuta la serie que realiza el %\n",
    "        % el calculo del vector resultante utilizando   %\n",
    "        % la formula matricial de Jacobi.               %\n",
    "        while(tol < err)\n",
    "            \n",
    "            % calculo: vector resultante mediante la formula de jacobi %\n",
    "            xk = (Minv * N * xk) + (Minv * b); \n",
    "\n",
    "            % calculo: error absoluto mediante la norma 2 %\n",
    "            err = norm(A * xk - b); \n",
    "\n",
    "            % actualizacion del vector de error %\n",
    "            e = [e err]; \n",
    "\n",
    "            % aumento del contador de iteraciones realizadas %\n",
    "            ++iter; \n",
    "        end\n",
    "\n",
    "        % numero de iteraciones %\n",
    "        display(\"Numero de Itereaciones: \")\n",
    "        iter\n",
    "        \n",
    "        % ultimo error calculado %\n",
    "        display(\"Ultimo error calculado: \")\n",
    "        e(end)\n",
    "\n",
    "        % grafica: error vs numero de iteracioens %\n",
    "        plot(1 : iter, e)\n",
    "        title('Error vs Iteraciones')\n",
    "        xlabel('Iteraciones')\n",
    "        ylabel('Error: (||Ax^k - b||)')\n",
    "    end\n",
    "end"
   ]
  },
  {
   "cell_type": "code",
   "execution_count": 16,
   "metadata": {
    "kernel": "octave"
   },
   "outputs": [
    {
     "name": "stdout",
     "output_type": "stream",
     "text": [
      "Numero de Itereaciones: \r\n",
      "iter =  23\r\n",
      "Ultimo error calculado: \r\n",
      "ans =  0.0000000085318\r\n",
      "x =\r\n",
      "\r\n",
      "   1.0000\r\n",
      "   1.0000\r\n",
      "   1.0000\r\n",
      "\r\n"
     ]
    },
    {
     "data": {
      "image/png": "[encoded data removed]",
      "text/plain": [
       "<IPython.core.display.Image object>"
      ]
     },
     "metadata": {},
     "output_type": "display_data"
    }
   ],
   "source": [
    "A = [5,1 ,1; 1, 5, 1; 1, 1, 5];\n",
    "b = [7; 7; 7];\n",
    "\n",
    "x = jacobi(A, b)"
   ]
  },
  {
   "cell_type": "markdown",
   "metadata": {
    "kernel": "SoS"
   },
   "source": [
    "<span style=\"color: #676767\">\n",
    "    <a id='py'></a>\n",
    "    <h2>\n",
    "        <span>\n",
    "            <span style=\"text-decoration: underline;\">\n",
    "                <strong>5. Código: Python (v3.8.3)</strong> \n",
    "            </span>\n",
    "        </span>\n",
    "    </h2>\n",
    "</span>"
   ]
  },
  {
   "cell_type": "markdown",
   "metadata": {
    "kernel": "SoS"
   },
   "source": [
    "<span style=\"font-size: 12.0pt\">\n",
    "    \n",
    "Acontinuación se muestra código de la implementación del método de Jacobi para el lenguaje de programación en Python en la versión 3.8.3. \n",
    "\n",
    "Este consiste en dos funciones:\n",
    "    \n",
    "- **vf_diag_dom.py**: Verifica que dada una matriz, esta sea diagnomalmente dominante.\n",
    "    \n",
    "    \n",
    "- **jacobi.py**: Realiza el cálculo de la solución de un sistema de ecuaciones. \n",
    "    \n",
    "    \n",
    "Para demostración su funcionamiento, se va a calcular la solución del siguiente sistema de ecuaciones:\n",
    "\n",
    "$$\n",
    "\\begin{equation*}\n",
    "\\begin{pmatrix}\n",
    "5 & 1 & 1 \\\\\n",
    "1 & 5 & 1 \\\\\n",
    "1 & 1 & 5 \\\\\n",
    "\\end{pmatrix}\n",
    "\\times\n",
    "\\begin{pmatrix} \n",
    "x_1 \\\\\n",
    "x_2 \\\\\n",
    "x_3 \\\\\n",
    "\\end{pmatrix}\n",
    "=\n",
    "\\begin{pmatrix} \n",
    "7 \\\\\n",
    "7 \\\\\n",
    "7\n",
    "\\end{pmatrix}\n",
    "\\end{equation*}\n",
    "$$\n",
    "\n",
    "donde su solución es la matriz columna:\n",
    "\n",
    "$$\n",
    "\\begin{equation*}\n",
    "\\begin{pmatrix}\n",
    "x_1 \\\\\n",
    "x_2 \\\\\n",
    "x_3 \\\\\n",
    "\\end{pmatrix}\n",
    "=\n",
    "\\begin{pmatrix} \n",
    "-1 \\\\\n",
    "-1 \\\\\n",
    "-1 \\\\\n",
    "\\end{pmatrix}\n",
    "\\end{equation*}\n",
    "$$\n",
    "    \n",
    "    \n",
    "Asimismo se muestra una gráfica del Error vs Iteraciones, para ilustrar el comportamiento de la función al usar la norma Euclidiana.\n",
    "    \n",
    "Como nota, Python utiliza las bibliotecas de **numpy** y **matplotlib**, para realizar el cáclulo mediante matices de maner matemática y gráficar los resultados, respectivamente.\n",
    "    \n",
    "</span>"
   ]
  },
  {
   "cell_type": "code",
   "execution_count": 17,
   "metadata": {
    "kernel": "python3"
   },
   "outputs": [],
   "source": [
    "import numpy as np\n",
    "import matplotlib.pyplot as plt"
   ]
  },
  {
   "cell_type": "code",
   "execution_count": 18,
   "metadata": {
    "kernel": "python3"
   },
   "outputs": [],
   "source": [
    "\"\"\"\n",
    "Esta funcion verifica que una matriz sea del\n",
    "tipo: diagonalmente dominante.\n",
    "Es decir, el valor absoluto del elemento de\n",
    "la diogonal, es mayor a la suma de los\n",
    "valores en valor absoluto del resto de la\n",
    "fila.\n",
    "\n",
    "Firma:\n",
    "    vf_diag_dom(A,b)\n",
    "\n",
    "Entradas:\n",
    "    A = matriz de coeficientes\n",
    "    m = cantidad de filas\n",
    "\n",
    "Salida:\n",
    "    bool = valor booleano (1 o 0)\n",
    "\"\"\"\n",
    "\n",
    "\n",
    "def vf_diag_dom(a, m):\n",
    "    \n",
    "    # declaracion: valor resultante #\n",
    "    bool = False\n",
    "\n",
    "    # iteracion: recorrido de la matriz, mientras #\n",
    "    # se verifica por filas que la matriz sea     #\n",
    "    # diagonalmente dominante                     #\n",
    "    for i in range(0, m):\n",
    "\n",
    "        # declaracion: elemento de la diagonal #\n",
    "        ed = np.abs(a[i, i])\n",
    "\n",
    "        # calculo: suma de los elementos de una #\n",
    "        # fila excluyendo el elemento diagonal  #\n",
    "        suma = np.abs(np.sum(a[1])) - ed\n",
    "\n",
    "        # verificacion: siempre que el elemento diagonal #\n",
    "        # sea mayor sigue, en caso contrario se sale del #\n",
    "        # del ciclo                                      #\n",
    "        if (suma < ed):\n",
    "            bool = True\n",
    "            continue\n",
    "        else:\n",
    "            bool = False\n",
    "            break\n",
    "\n",
    "    # retorno: valor resultante #\n",
    "    return bool"
   ]
  },
  {
   "cell_type": "code",
   "execution_count": 19,
   "metadata": {
    "kernel": "python3"
   },
   "outputs": [],
   "source": [
    "\"\"\"\n",
    "Esta funcion encuentra la solucion a un sistema\n",
    "de ecuaciones representado mediante la expresion:\n",
    "A * x = b, utilizando el metodo de Jacobi.\n",
    "\n",
    "El metodo de Jacobi utiliza la siguiente formula:\n",
    "\n",
    "    -> A * x = b\n",
    "    -> (M - N) * x = b\n",
    "    -> M * x = (N * x) + b\n",
    "    -> x = (M^-1 * N * x) + (M^-1 * b)\n",
    "\n",
    "donde:\n",
    "\n",
    "    -> M^-1 = matriz diagonal inversa\n",
    "    -> N = matriz A con diagonal de ceros y valores negativos\n",
    "\n",
    "Para el cálculo de la norma, se aplica la formula\n",
    "Euclidiana o norma 2.\n",
    "\n",
    "Firma:\n",
    "    jacobi(A,b)\n",
    "\n",
    "Usando la convencion de nombramiento estandar de Python3\n",
    "se declararon:\n",
    "\n",
    "    A = A\n",
    "    b = b\n",
    "    M = m\n",
    "    N = n\n",
    "\n",
    "Entradas:\n",
    "    A = matriz de coeficientes\n",
    "    b = vector de valores independientes\n",
    "\n",
    "Salida:\n",
    "    xk = vector de incognitas\n",
    "\"\"\"\n",
    "\n",
    "def jacobi(A, b):\n",
    "    \n",
    "    # declaracion: parametros de entrada (listas) a objetos de numpy (matrices) #\n",
    "    a = np.matrix(A)\n",
    "    b = np.matrix(b)\n",
    "\n",
    "    # declaracion: vector resultante #\n",
    "    xk = []\n",
    "\n",
    "    # calculo: dimensiones de la matriz a #\n",
    "    [m, n] = a.shape\n",
    "\n",
    "    # calculo: dimensiones de la matriz a #\n",
    "    dim_b = a.shape\n",
    "\n",
    "    # verificacion: matriz debe ser cuadrada #\n",
    "    if (m != n):\n",
    "        print(\"La matriz no es cuadrada.\")\n",
    "        return\n",
    "    \n",
    "    # verificacion: matriz debe ser invertible 3\n",
    "    elif (np.linalg.det(a) == 0):\n",
    "        print(\"La matriz no es invertible.\")\n",
    "        return\n",
    "    \n",
    "    # verificacion: la matriz debe ser diagnonalmente dominante #\n",
    "    elif (not vf_diag_dom(a, m)):\n",
    "        print(\"La matriz no es diagonalmente dominante.\")\n",
    "        return\n",
    "    \n",
    "    # verificacion: el vector b debe coinicidir con la matriz #\n",
    "    elif (n != dim_b[1]):\n",
    "        print(\"El vector de valores independientes no coincide.\")\n",
    "        return\n",
    "    \n",
    "    # si cumple las condiciones, ejecuta el metodo de jacobi #\n",
    "    else:\n",
    "\n",
    "        # declaracion: vector inicial #\n",
    "        x0 = np.zeros((m, 1))\n",
    "\n",
    "        # asignacion: vector resultante #\n",
    "        xk = x0\n",
    "\n",
    "        # declaracion: matrices M y N #\n",
    "        m = np.diag(np.diag(a))\n",
    "        n = m - a\n",
    "\n",
    "        # declaracion: matriz inversa de M #\n",
    "        d = np.diag(m)\n",
    "        m_inv = np.diag(1./d)\n",
    "\n",
    "        # declaracion: tolerancia #\n",
    "        tol = (10)**(-8)\n",
    "\n",
    "        # declaracion: vector de error #\n",
    "        err = tol + 1\n",
    "        e = []\n",
    "\n",
    "        # declaracion: numero de iteraciones realizadas #\n",
    "        iter = 0\n",
    "\n",
    "        # declaracion: vector para las iteraciones #\n",
    "        it = []\n",
    "\n",
    "        # iteracion: mientras el error sea mayor que la #\n",
    "        # tolerancia se ejecuta la serie que realiza el #\n",
    "        # el calculo del vector resultante utilizando   #\n",
    "        # la formula matricial de Jacobi.               #\n",
    "        while(tol < err):\n",
    "\n",
    "            # calculo: vector resultante mediante la formula de jacobi #\n",
    "            xk = (m_inv * n * xk) + (m_inv * b)\n",
    "\n",
    "            # calculo: error absoluto mediante la norma 2 #\n",
    "            err = np.linalg.norm(a * xk - b)\n",
    "\n",
    "            # actualizacion del vector de error #\n",
    "            e.append(err)\n",
    "\n",
    "            # aumento del contador de iteraciones realizadas #\n",
    "            iter += 1\n",
    "\n",
    "            # agregando las iteraciones realizadas #\n",
    "            it.append(iter)\n",
    "\n",
    "        print(\"iter: \", iter)\n",
    "        \n",
    "        print(\"xk: \", xk)\n",
    "        \n",
    "        plt.title('Error vs Iteraciones')\n",
    "        plt.ylabel('||Ax^k - b||)')\n",
    "        plt.xlabel('Iteraciones')\n",
    "        plt.plot(it, e)\n",
    "\n",
    "        #return xk"
   ]
  },
  {
   "cell_type": "code",
   "execution_count": 20,
   "metadata": {
    "kernel": "python3"
   },
   "outputs": [
    {
     "name": "stdout",
     "output_type": "stream",
     "text": [
      "iter:  23\n",
      "xk:  [[1.]\n",
      " [1.]\n",
      " [1.]]\n"
     ]
    },
    {
     "data": {
      "image/png": "[encoded data removed]",
      "text/plain": [
       "<Figure size 432x288 with 1 Axes>"
      ]
     },
     "metadata": {
      "needs_background": "light"
     },
     "output_type": "display_data"
    }
   ],
   "source": [
    "A = [[5, 1, 1], [1, 5, 1], [1, 1, 5]]\n",
    "b = [[7], [7], [7]]\n",
    "\n",
    "jacobi(A, b)"
   ]
  },
  {
   "cell_type": "markdown",
   "metadata": {
    "kernel": "SoS"
   },
   "source": [
    "<span style=\"color: #676767\">\n",
    "    <a id='em'></a>\n",
    "    <h2>\n",
    "        <span>\n",
    "            <span style=\"text-decoration: underline;\">\n",
    "                <strong>6. Ejemplo Numérico</strong> \n",
    "            </span>\n",
    "        </span>\n",
    "    </h2>\n",
    "</span>"
   ]
  },
  {
   "cell_type": "markdown",
   "metadata": {
    "kernel": "python3"
   },
   "source": [
    "<span style=\"font-size: 12.0pt; line-height: 150%\">\n",
    " \n",
    "A continuación se muestra un ejemplo número aplicado a la ingeniería. Este mismo ejemplo fue tomado del libro **Métodos Númericos para Ingenieros** (5ta Ed, 2012) escrito por Steven C. Chapra y Raymond P. Canale. \n",
    "    \n",
    "Este se basó en los ejericios 10.8 y 11.8, tomado de las páginas 303 y 325, respectivamente. [[1]](#lr).\n",
    "    \n",
    " El cual dice:\n",
    "    \n",
    "_El sistema de ecuaciones que sigue está diseñado para determinar concentraciones (las c están en g/m3) en una serie de reactores acoplados, como función de la cantidad de masa que entra a cada uno de ellos (los lados derechos están en g/día)_\n",
    "     \n",
    "$$\n",
    "\\begin{equation*}\n",
    "15c_1 – 3c_2 – c_3 = 3800 \\\\ \n",
    "–3c_1 + 18c_2 – 6c_3 = 1200 \\\\\n",
    "–4c_1 – c_2 + 12c_3 = 2350 \\\\\n",
    "\\end{equation*}\n",
    "$$    \n",
    "\n",
    "    \n",
    "_Del problema 10.8, recuerde que el sistema de ecuaciones siguiente está diseñado para determinar concentraciones (las c están en g/m3) en una serie de reactores acoplados como función de la cantidad de masa de entrada a cada uno de ellos (los lados derechos están en g/d)._\n",
    "    \n",
    "Si se resuelve el sistema de ecuaciones para encontrar el la cantidad de concentraciones por día según las condiciones dadas anteriormente, se obtiene el los siguientes resultados:\n",
    "    \n",
    "  $$\n",
    "\\begin{equation*}\n",
    "\\begin{pmatrix}\n",
    "c_1 \\\\\n",
    "c_2 \\\\\n",
    "c_3 \\\\\n",
    "\\end{pmatrix}\n",
    "=\n",
    "\\begin{pmatrix} \n",
    "320.21 \\\\\n",
    "227.20 \\\\\n",
    "321.50 \\\\\n",
    "\\end{pmatrix}\n",
    "\\end{equation*}\n",
    "$$\n",
    "    \n",
    "Al ingresar el sistema de ecuaciones en las funciones previamente programdas (GNU Octave y Python), se obtienen los siguientes resultados, respectivamente:\n",
    "    \n",
    "</span>"
   ]
  },
  {
   "cell_type": "code",
   "execution_count": 21,
   "metadata": {
    "kernel": "octave"
   },
   "outputs": [
    {
     "name": "stdout",
     "output_type": "stream",
     "text": [
      "A =\n",
      "\n",
      "   15   -3   -1\n",
      "   -3   18   -6\n",
      "   -4   -1   12\n",
      "\n",
      "b =\n",
      "\n",
      "   3800\n",
      "   1200\n",
      "   2350\n",
      "\n",
      "Numero de Itereaciones: \n",
      "iter =  28\n",
      "Ultimo error calculado: \n",
      "ans =  0.0000000087422\n",
      "x =\n",
      "\n",
      "   320.21\n",
      "   227.20\n",
      "   321.50\n",
      "\n"
     ]
    },
    {
     "data": {
      "image/png": "[encoded data removed]",
      "text/plain": [
       "<IPython.core.display.Image object>"
      ]
     },
     "metadata": {},
     "output_type": "display_data"
    }
   ],
   "source": [
    "A = [15, -3, -1; -3, 18, -6; -4, -1, 12;]\n",
    "b = [3800; 1200; 2350]\n",
    "\n",
    "x = jacobi(A, b)"
   ]
  },
  {
   "cell_type": "code",
   "execution_count": 22,
   "metadata": {
    "kernel": "python3"
   },
   "outputs": [
    {
     "name": "stdout",
     "output_type": "stream",
     "text": [
      "iter:  28\n",
      "xk:  [[320.20725389]\n",
      " [227.20207254]\n",
      " [321.50259067]]\n"
     ]
    },
    {
     "data": {
      "image/png": "[encoded data removed]",
      "text/plain": [
       "<Figure size 432x288 with 1 Axes>"
      ]
     },
     "metadata": {
      "needs_background": "light"
     },
     "output_type": "display_data"
    }
   ],
   "source": [
    "A = [[15, -3, -1], [-3, 18, -6], [-4, -1, 12]]\n",
    "b = [[3800], [1200], [2350]]\n",
    "\n",
    "jacobi(A, b)"
   ]
  },
  {
   "cell_type": "markdown",
   "metadata": {
    "kernel": "SoS"
   },
   "source": [
    "<span style=\"color: #676767\">\n",
    "    <a id='rf'></a>\n",
    "    <h2>\n",
    "        <span>\n",
    "            <span style=\"text-decoration: underline;\">\n",
    "                <strong>7. Referencias Bibliográficas </strong> \n",
    "            </span>\n",
    "        </span>\n",
    "    </h2>\n",
    "</span>"
   ]
  },
  {
   "cell_type": "markdown",
   "metadata": {
    "kernel": "python3"
   },
   "source": [
    "<span id='lr' style=\"font-size: 12.0pt; line-height: 150%\">\n",
    "\n",
    "[1] Chapra, S. C. & Canale R. P. (2007). _Numerical methods for engineers (5da. ed.)._ New York: McGraw-Hill.\n",
    "\n",
    "    \n",
    "[2] Soto, J. P. (2020). _Presentación 5: Solución de Sistemas de Ecuaciones Métodos Iterativos CE-3102: Análisis Numéricos para Ingeniería._. Área Académica de Ingenría en Computadores. Instituto Tecnológico de Costa Rica. Costa Rica.\n",
    "    \n",
    "\n",
    "[3] Unioviedo. (sf). _Sistemas de ecuaciones lineales_.  Escuela de Ingenería de Oviedo Informática de Oviedo. Universidad de Oviedo. España [PDF] TOmado de: https://www.unioviedo.es/compnum/expositiva/Presentaciones_web/T5_sist_lineales.pdf\n",
    "    \n",
    "</span>"
   ]
  }
 ],
 "metadata": {
  "kernelspec": {
   "display_name": "SoS",
   "language": "sos",
   "name": "sos"
  },
  "language_info": {
   "codemirror_mode": "sos",
   "file_extension": ".sos",
   "mimetype": "text/x-sos",
   "name": "sos",
   "nbconvert_exporter": "sos_notebook.converter.SoS_Exporter",
   "pygments_lexer": "sos"
  },
  "sos": {
   "kernels": [
    [
     "octave",
     "octave",
     "octave",
     "",
     ""
    ],
    [
     "python3",
     "python3",
     "python",
     "",
     {
      "name": "ipython",
      "version": 3
     }
    ]
   ],
   "panel": {
    "displayed": true,
    "height": 0
   },
   "version": "0.20.1"
  }
 },
 "nbformat": 4,
 "nbformat_minor": 4
}
