{
 "cells": [
  {
   "cell_type": "markdown",
   "metadata": {},
   "source": [
    "# Métodos de Soluciones de Ecuaciones No Lineales en Python v3.8.5"
   ]
  },
  {
   "cell_type": "markdown",
   "metadata": {},
   "source": [
    "### Método de la Bisección"
   ]
  },
  {
   "cell_type": "code",
   "execution_count": 25,
   "metadata": {},
   "outputs": [],
   "source": [
    "from sympy import sympify\n",
    "import matplotlib.pyplot\n",
    "\n",
    "def biseccion(f, a, b, tol, iterMax):\n",
    "    f1 = sympify(f)\n",
    "    fa = f1.subs('x', a)\n",
    "    fb = f1.subs('x', b)\n",
    "    if (fa * fb > 0):\n",
    "        x = []\n",
    "        k = []\n",
    "        error = []\n",
    "        print('No cumple la condición del Teorema de Bolzano.')\n",
    "    else:\n",
    "        error = tol + 1\n",
    "        k = 0\n",
    "        it = []\n",
    "        e = []\n",
    "        while (error > tol and k < iterMax):\n",
    "            k = k + 1\n",
    "            x = (a + b) / 2\n",
    "            fa = f1.subs('x', a)\n",
    "            fx = f1.subs('x', x)\n",
    "            error = abs(fx)\n",
    "            it.append(k)\n",
    "            e.append(error)\n",
    "            if fa*fx < 0:\n",
    "                b = x\n",
    "            else:\n",
    "                a = x\n",
    "    matplotlib.pyplot.plot(it, e)\n",
    "    ans = {\n",
    "        \"x\": x,\n",
    "        \"k\": k,\n",
    "        \"error\": error\n",
    "    }\n",
    "    return ans\n",
    "\n",
    "# biseccion('exp(x)-x-2',0,2,10**-8,10)"
   ]
  },
  {
   "cell_type": "code",
   "execution_count": 26,
   "metadata": {},
   "outputs": [
    {
     "data": {
      "text/plain": [
       "{'x': 1.146484375, 'k': 10, 'error': 0.000625006920975224}"
      ]
     },
     "execution_count": 26,
     "metadata": {},
     "output_type": "execute_result"
    },
    {
     "data": {
      "image/png": "[encoded data removed]",
      "text/plain": [
       "<Figure size 432x288 with 1 Axes>"
      ]
     },
     "metadata": {
      "needs_background": "light"
     },
     "output_type": "display_data"
    }
   ],
   "source": [
    "biseccion('exp(x)-x-2',0,2,10**-8,10)"
   ]
  },
  {
   "cell_type": "markdown",
   "metadata": {},
   "source": [
    "### Método de Newton-Raphson"
   ]
  },
  {
   "cell_type": "code",
   "execution_count": 29,
   "metadata": {},
   "outputs": [],
   "source": [
    "from sympy import *\n",
    "import matplotlib.pyplot\n",
    "\n",
    "def newton_raphson(f, xo, tol, iterMax):\n",
    "    f1 = sympify(f)\n",
    "    df = diff(f1)\n",
    "    error = tol + 1\n",
    "    k = 0\n",
    "    it = []\n",
    "    e = []\n",
    "    while (error > tol and k < iterMax):\n",
    "        k = k + 1\n",
    "        deno = df.subs('x', xo)\n",
    "        if (deno == 0):\n",
    "            x = []\n",
    "            k = []\n",
    "            error = []\n",
    "            print('La funcion se indefine.')\n",
    "            break\n",
    "        else:\n",
    "            nume = f1.subs('x', xo)\n",
    "            xn = xo - nume/deno\n",
    "            error = abs(xn)\n",
    "            it.append(k)\n",
    "            e.append(error)\n",
    "            xo = xn\n",
    "    matplotlib.pyplot.plot(it, e)\n",
    "    ans = {\n",
    "        \"x\": xn,\n",
    "        \"k\": k,\n",
    "        \"error\": error\n",
    "    }\n",
    "    return ans\n",
    "\n",
    "# newton('cos(2*x)**2-x**2',3/4,10**-8,10)"
   ]
  },
  {
   "cell_type": "code",
   "execution_count": 30,
   "metadata": {},
   "outputs": [
    {
     "data": {
      "text/plain": [
       "{'x': 0.514933264661129, 'k': 10, 'error': 0.514933264661129}"
      ]
     },
     "execution_count": 30,
     "metadata": {},
     "output_type": "execute_result"
    },
    {
     "data": {
      "image/png": "[encoded data removed]",
      "text/plain": [
       "<Figure size 432x288 with 1 Axes>"
      ]
     },
     "metadata": {
      "needs_background": "light"
     },
     "output_type": "display_data"
    }
   ],
   "source": [
    "newton_raphson('cos(2*x)**2-x**2',3/4,10**-8,10)"
   ]
  },
  {
   "cell_type": "markdown",
   "metadata": {},
   "source": [
    "### Método de la Secante"
   ]
  },
  {
   "cell_type": "code",
   "execution_count": 50,
   "metadata": {},
   "outputs": [],
   "source": [
    "from sympy import *\n",
    "import matplotlib.pyplot\n",
    "\n",
    "\n",
    "def secante(f, xo, xi, tol, iterMax):\n",
    "    x = Symbol('x')\n",
    "    f1 = sympify(f)\n",
    "    error = tol + 1\n",
    "    k = 0\n",
    "    it = []\n",
    "    e = []\n",
    "    while (error > tol and k < iterMax):\n",
    "        k = k + 1\n",
    "        num = (xi - xo)\n",
    "        deno = f1.subs('x', xi) - f1.subs('x', xo)\n",
    "        if (deno == 0):\n",
    "            it = []\n",
    "            e = []\n",
    "            print('La funcion se indefine.')\n",
    "        else:\n",
    "            f1_eval = f1.subs('x', xi)\n",
    "            xn = xi - ((num) / (deno)) * (f1_eval)\n",
    "            error = abs(xn)\n",
    "            it.append(k)\n",
    "            e.append(error)\n",
    "            xo = xi\n",
    "            xi = xn\n",
    "    matplotlib.pyplot.plot(it, e)\n",
    "    return [x,k,error]\n",
    "\n",
    "# secante('exp(-(x**2))-x',0,1,10**-8,3)\n"
   ]
  },
  {
   "cell_type": "code",
   "execution_count": null,
   "metadata": {},
   "outputs": [],
   "source": [
    "secante('exp(-(x**2))-x',0,1,10**-8,3)"
   ]
  },
  {
   "cell_type": "code",
   "execution_count": null,
   "metadata": {},
   "outputs": [],
   "source": []
  }
 ],
 "metadata": {
  "kernelspec": {
   "display_name": "Python 3",
   "language": "python",
   "name": "python3"
  },
  "language_info": {
   "codemirror_mode": {
    "name": "ipython",
    "version": 3
   },
   "file_extension": ".py",
   "mimetype": "text/x-python",
   "name": "python",
   "nbconvert_exporter": "python",
   "pygments_lexer": "ipython3",
   "version": "3.8.3"
  }
 },
 "nbformat": 4,
 "nbformat_minor": 4
}
