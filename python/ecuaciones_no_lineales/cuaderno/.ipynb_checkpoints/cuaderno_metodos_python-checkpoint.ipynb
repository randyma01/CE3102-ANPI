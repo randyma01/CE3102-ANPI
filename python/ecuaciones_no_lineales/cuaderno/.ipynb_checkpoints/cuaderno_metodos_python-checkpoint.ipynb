{
 "cells": [
  {
   "cell_type": "markdown",
   "metadata": {},
   "source": [
    "# Métodos de Soluciones de Ecuaciones No Lineales en Python v3.8.5"
   ]
  },
  {
   "cell_type": "markdown",
   "metadata": {},
   "source": [
    "### # Dependencias de math, sympy & matplotlib #"
   ]
  },
  {
   "cell_type": "code",
   "execution_count": 165,
   "metadata": {},
   "outputs": [],
   "source": [
    "import math\n",
    "import matplotlib.pyplot\n",
    "from sympy import *"
   ]
  },
  {
   "cell_type": "markdown",
   "metadata": {},
   "source": [
    "### Método de la Bisección"
   ]
  },
  {
   "cell_type": "code",
   "execution_count": 116,
   "metadata": {},
   "outputs": [],
   "source": [
    "def biseccion(f, a, b, tol, iterMax):\n",
    "    f1 = sympify(f)\n",
    "    fa = f1.subs('x', a)\n",
    "    fb = f1.subs('x', b)\n",
    "    if (fa * fb > 0):\n",
    "        x = []\n",
    "        k = []\n",
    "        error = []\n",
    "        print('No cumple la condición del Teorema de Bolzano.')\n",
    "    else:\n",
    "        error = tol + 1\n",
    "        k = 0\n",
    "        it = []\n",
    "        e = []\n",
    "        while (tol < error and k < iterMax):\n",
    "            k = k + 1\n",
    "            x = (a + b) / 2\n",
    "            fa = f1.subs('x', a)\n",
    "            fx = f1.subs('x', x)\n",
    "            error = abs(fx)\n",
    "            it.append(k)\n",
    "            e.append(error)\n",
    "            if (fa * fx < 0):\n",
    "                b = x\n",
    "            else:\n",
    "                a = x\n",
    "    matplotlib.pyplot.plot(it, e)\n",
    "    ans = {\n",
    "        \"x\": x,\n",
    "        \"k\": k,\n",
    "        \"error\": e[-1]\n",
    "    }\n",
    "    return ans\n",
    "\n",
    "# biseccion('exp(x)-x-2',0,2,10**-8,10)"
   ]
  },
  {
   "cell_type": "code",
   "execution_count": 117,
   "metadata": {},
   "outputs": [
    {
     "data": {
      "text/plain": [
       "{'x': 1.146484375, 'k': 10, 'error': 0.000625006920975224}"
      ]
     },
     "execution_count": 117,
     "metadata": {},
     "output_type": "execute_result"
    },
    {
     "data": {
      "image/png": "[encoded data removed]",
      "text/plain": [
       "<Figure size 432x288 with 1 Axes>"
      ]
     },
     "metadata": {
      "needs_background": "light"
     },
     "output_type": "display_data"
    }
   ],
   "source": [
    "biseccion('exp(x)-x-2',0,2,10**-8,10)"
   ]
  },
  {
   "cell_type": "markdown",
   "metadata": {},
   "source": [
    "### Método de Newton-Raphson"
   ]
  },
  {
   "cell_type": "code",
   "execution_count": 120,
   "metadata": {},
   "outputs": [],
   "source": [
    "def newton(f, xo, tol, iterMax):\n",
    "    x = Symbol('x')\n",
    "    f1 = sympify(f)\n",
    "    df = diff(f1)\n",
    "    error = tol + 1\n",
    "    k = 0\n",
    "    it = []\n",
    "    e = []\n",
    "    while (tol < error and k < iterMax):\n",
    "        if (df.evalf(subs={x: xo}) == 0):\n",
    "            x = []\n",
    "            k = []\n",
    "            error = []\n",
    "            print(\"La funcion se indefine en xo.\")\n",
    "        else:\n",
    "            xn = xo - (f1.evalf(subs={x: xo}) / df.evalf(subs={x: xo}))\n",
    "            error = abs(xn)\n",
    "            it.append(k)\n",
    "            e.append(error)\n",
    "            xo = xn\n",
    "        k += 1\n",
    "    matplotlib.pyplot.plot(it, e)\n",
    "    ans = {\n",
    "        \"x\": xn,\n",
    "        \"k\": k,\n",
    "        \"error\": e[-1]\n",
    "    }\n",
    "    return ans\n",
    "\n",
    "# newton('cos(2*x)**2-x**2',3/4,10**-8,10)"
   ]
  },
  {
   "cell_type": "code",
   "execution_count": 132,
   "metadata": {},
   "outputs": [
    {
     "data": {
      "text/plain": [
       "{'x': 0.514933264661129, 'k': 10, 'error': 0.514933264661129}"
      ]
     },
     "execution_count": 132,
     "metadata": {},
     "output_type": "execute_result"
    },
    {
     "data": {
      "image/png": "[encoded data removed]",
      "text/plain": [
       "<Figure size 432x288 with 1 Axes>"
      ]
     },
     "metadata": {
      "needs_background": "light"
     },
     "output_type": "display_data"
    }
   ],
   "source": [
    "newton('cos(2*x)**2-x**2',3/4,10**-8,10)"
   ]
  },
  {
   "cell_type": "markdown",
   "metadata": {},
   "source": [
    "### Método de la Secante"
   ]
  },
  {
   "cell_type": "code",
   "execution_count": 162,
   "metadata": {},
   "outputs": [],
   "source": [
    "def secante(f, xo, xi, tol, iterMax):\n",
    "    x = Symbol('x')\n",
    "    f1 = sympify(f)\n",
    "    error = tol + 1\n",
    "    k = 0\n",
    "    it = []\n",
    "    e = []\n",
    "    while (tol < error and k < iterMax):\n",
    "        nume = (xi - xo)\n",
    "        deno = f1.evalf(subs={x: xi})-f1.evalf(subs={x: xo})\n",
    "        if(deno == 0):\n",
    "            it = []\n",
    "            e = []\n",
    "            print(\"La funcion se indefine.\")\n",
    "        else:\n",
    "            xn = xi - ((nume) / (deno)) * ((f1.evalf(subs={x: xi})))\n",
    "            error = abs(xn)\n",
    "            it.append(k)\n",
    "            e.append(error)\n",
    "            xo = xi\n",
    "            xi = xn\n",
    "        k += 1\n",
    "    matplotlib.pyplot.plot(it, e)\n",
    "    ans = {\n",
    "        \"x\": xn,\n",
    "        \"k\": k,\n",
    "        \"error\": e[-1]\n",
    "    }\n",
    "    return ans\n",
    "    \n",
    "# secante('exp(-(x**2))-x',0,1,10**-8,3)"
   ]
  },
  {
   "cell_type": "code",
   "execution_count": 163,
   "metadata": {},
   "outputs": [
    {
     "data": {
      "text/plain": [
       "{'x': 0.652917265247279, 'k': 3, 'error': 0.652917265247279}"
      ]
     },
     "execution_count": 163,
     "metadata": {},
     "output_type": "execute_result"
    },
    {
     "data": {
      "image/png": "[encoded data removed]",
      "text/plain": [
       "<Figure size 432x288 with 1 Axes>"
      ]
     },
     "metadata": {
      "needs_background": "light"
     },
     "output_type": "display_data"
    }
   ],
   "source": [
    "secante('exp(-(x**2))-x',0,1,10**-8,3)"
   ]
  },
  {
   "cell_type": "markdown",
   "metadata": {},
   "source": [
    "### Método de Falsa Posición"
   ]
  },
  {
   "cell_type": "code",
   "execution_count": 151,
   "metadata": {},
   "outputs": [],
   "source": [
    "def falsa_posicion(f, a, b, tol, iterMax):\n",
    "    funcion = sympify(f)\n",
    "    fa = funcion.subs('x', a)\n",
    "    fb = funcion.subs('x', b)\n",
    "    if (fa * fb <= 0):\n",
    "        error = tol + 1\n",
    "        k = 0\n",
    "        it = []\n",
    "        e = []\n",
    "        while (tol < error and k < iterMax):\n",
    "            fa = funcion.subs('x', a)\n",
    "            fb = funcion.subs('x', b)\n",
    "            x = b - (((b - a) / (fb - fa)) * fb)\n",
    "            fa = funcion.subs('x', a)\n",
    "            fx = funcion.subs('x', x)\n",
    "            error = abs(fx)\n",
    "            it.append(k)\n",
    "            e.append(error)\n",
    "            \n",
    "            if (fa * fx < 0):\n",
    "                b = x\n",
    "            else:\n",
    "                a = x\n",
    "            k +=1\n",
    "    else:\n",
    "        x = []\n",
    "        k = []\n",
    "        error = []\n",
    "        print(\"No cumple la condición del Teorema de Bolzano.\")\n",
    "    matplotlib.pyplot.plot(it, e)\n",
    "    ans = {\n",
    "        \"x\": x,\n",
    "        \"k\": k,\n",
    "        \"error\": e[-1]\n",
    "    }\n",
    "    return ans\n",
    "\n",
    "# falsa_posicion('cos(x)-x',1/2,3.141592/4,10**-8,40)"
   ]
  },
  {
   "cell_type": "code",
   "execution_count": 152,
   "metadata": {},
   "outputs": [
    {
     "data": {
      "text/plain": [
       "{'x': 0.739085130526616, 'k': 4, 'error': 4.49958070802836e-9}"
      ]
     },
     "execution_count": 152,
     "metadata": {},
     "output_type": "execute_result"
    },
    {
     "data": {
      "image/png": "[encoded data removed]",
      "text/plain": [
       "<Figure size 432x288 with 1 Axes>"
      ]
     },
     "metadata": {
      "needs_background": "light"
     },
     "output_type": "display_data"
    }
   ],
   "source": [
    "falsa_posicion('cos(x)-x',1/2,3.141592/4,10**-8,40)"
   ]
  },
  {
   "cell_type": "markdown",
   "metadata": {},
   "source": [
    "### Método del Punto Fijo"
   ]
  },
  {
   "cell_type": "code",
   "execution_count": 159,
   "metadata": {},
   "outputs": [],
   "source": [
    "def punto_fijo(p, xo, a, b, tol, iterMax):\n",
    "    x = Symbol('x')\n",
    "    f1 = sympify(p)\n",
    "    error = tol + 1\n",
    "    k = 0\n",
    "    it = []\n",
    "    e = []\n",
    "    while (tol < error and k < iterMax):\n",
    "        xk = f1.evalf(subs={x: xo})\n",
    "        error = abs((f1.evalf(subs={x: xk})) - xk)\n",
    "        e.append(error)\n",
    "        it.append(k)\n",
    "        xo = xk\n",
    "        k += 1\n",
    "    matplotlib.pyplot.plot(it, e)\n",
    "    ans = {\n",
    "        \"x\": xk,\n",
    "        \"k\": k,\n",
    "        \"error\": e[-1]\n",
    "    }\n",
    "    return ans\n",
    "\n",
    "# punto_fijo('log(2*x+1)',0.5,1,2,10^-8,5)"
   ]
  },
  {
   "cell_type": "code",
   "execution_count": 160,
   "metadata": {},
   "outputs": [
    {
     "data": {
      "text/plain": [
       "{'x': 1.16550958140855, 'k': 5, 'error': 0.0377687306585850}"
      ]
     },
     "execution_count": 160,
     "metadata": {},
     "output_type": "execute_result"
    },
    {
     "data": {
      "image/png": "[encoded data removed]",
      "text/plain": [
       "<Figure size 432x288 with 1 Axes>"
      ]
     },
     "metadata": {
      "needs_background": "light"
     },
     "output_type": "display_data"
    }
   ],
   "source": [
    "punto_fijo('log(2*x+1)',0.5,1,2,10^-8,5)"
   ]
  },
  {
   "cell_type": "markdown",
   "metadata": {},
   "source": [
    "### Método de Müller"
   ]
  },
  {
   "cell_type": "code",
   "execution_count": 176,
   "metadata": {},
   "outputs": [],
   "source": [
    "def muller(f, x0, x1, x2, tol, iterMax):\n",
    "    x = Symbol('x')\n",
    "    f1 = sympify(f)\n",
    "    error = tol + 1\n",
    "    k = 0\n",
    "    it = []\n",
    "    e = []\n",
    "    while (tol < error and k < iterMax):\n",
    "        fx = f1.evalf(subs={x: x0})\n",
    "        fy = f1.evalf(subs={x: x1})\n",
    "        fz = f1.evalf(subs={x: x2})\n",
    "        c = fz\n",
    "        b = ((((x0 - x2)**2) * (fy - fz)) - (((x1 - x2)**2) * (fx - fz))) / ((x0 - x1) * (x0 - x2) * (x1 - x2))\n",
    "        a = (((x1 - x2) * (fx - fz)) - ((x0 - x2) * (fy - fz))) / ((x0 - x1) * (x0 - x2) * (x1 - x2))\n",
    "        disc = sqrt((b**2) - 4 * a * c)\n",
    "        if (0 < b):\n",
    "            xk = x2 - ((2 * c) / (b + disc))\n",
    "        else:\n",
    "            xk = x2 - ((2 * c) / (b - disc))\n",
    "        error = abs(f1.evalf(subs={x: xk}))\n",
    "        it.append(k)\n",
    "        e.append(error)\n",
    "        d1 = abs(x0 - xk)\n",
    "        d2 = abs(x1 - xk)\n",
    "        d3 = abs(x2 - xk)\n",
    "\n",
    "        if (max(d1, d2, d3) == d1):\n",
    "            s = sorted([xk, x1, x2])\n",
    "            x0 = s[0]\n",
    "            x1 = s[1]\n",
    "            x2 = s[2]\n",
    "        elif (max(d1, d2, d3) == d2):\n",
    "            s = sorted([xk, x0, x2])\n",
    "            x0 = s[0]\n",
    "            x1 = s[1]\n",
    "            x2 = s[2]\n",
    "        else:\n",
    "            s = sorted([xk, x0, x1])\n",
    "            x0 = s[0]\n",
    "            x1 = s[1]\n",
    "            x2 = s[2]\n",
    "        k += 1\n",
    "    matplotlib.pyplot.plot(it, e)\n",
    "    ans = {\n",
    "        \"x\": xk,\n",
    "        \"k\": k,\n",
    "        \"error\": e[-1]\n",
    "    }\n",
    "    return ans\n",
    "\n",
    "# muller('sin(x)-x/2',2,2.2,1.8,10^-8,3)"
   ]
  },
  {
   "cell_type": "code",
   "execution_count": 175,
   "metadata": {},
   "outputs": [
    {
     "data": {
      "text/plain": [
       "{'x': 1.89549426703420, 'k': 3, 'error': 1.80216642511051e-13}"
      ]
     },
     "execution_count": 175,
     "metadata": {},
     "output_type": "execute_result"
    },
    {
     "data": {
      "image/png": "[encoded data removed]",
      "text/plain": [
       "<Figure size 432x288 with 1 Axes>"
      ]
     },
     "metadata": {
      "needs_background": "light"
     },
     "output_type": "display_data"
    }
   ],
   "source": [
    "muller('sin(x)-x/2',2,2.2,1.8,10^-8,3)"
   ]
  },
  {
   "cell_type": "markdown",
   "metadata": {},
   "source": [
    "# Fin"
   ]
  }
 ],
 "metadata": {
  "kernelspec": {
   "display_name": "Python 3",
   "language": "python",
   "name": "python3"
  },
  "language_info": {
   "codemirror_mode": {
    "name": "ipython",
    "version": 3
   },
   "file_extension": ".py",
   "mimetype": "text/x-python",
   "name": "python",
   "nbconvert_exporter": "python",
   "pygments_lexer": "ipython3",
   "version": "3.8.3"
  }
 },
 "nbformat": 4,
 "nbformat_minor": 4
}
