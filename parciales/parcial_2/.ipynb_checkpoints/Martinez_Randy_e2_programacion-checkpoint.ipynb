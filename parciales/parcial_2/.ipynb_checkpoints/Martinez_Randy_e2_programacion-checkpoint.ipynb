{
 "cells": [
  {
   "cell_type": "markdown",
   "metadata": {},
   "source": [
    "<h1 style=\"text-align: center; color: #000000;\">\n",
    "    <strong>Examen Parcial II: Solución Preguntas de Programación</strong>\n",
    "</h1>"
   ]
  },
  {
   "cell_type": "markdown",
   "metadata": {},
   "source": [
    "<span style=\"font-size: 12.0pt\">\n",
    "    <ul>\n",
    "        <li style=\"margin: 2rem\"> \n",
    "            <strong>Nombre: </strong> \n",
    "            Randy Alejandro Martínez Sandí\n",
    "        </li>\n",
    "        <li style=\"margin: 2rem\"> \n",
    "            <strong>Carnet:</strong> \n",
    "            2014047395\n",
    "        </li>\n",
    "        <li style=\"margin: 2rem\"> \n",
    "            <strong>Fecha: </strong>\n",
    "            25 de enero, 2021\n",
    "        </li>\n",
    "    </ul>\n",
    "</span>"
   ]
  },
  {
   "cell_type": "markdown",
   "metadata": {},
   "source": [
    "<span style=\"font-size: 12.0pt; color: #000000\">\n",
    "    <h2 style=\"text-align: center;\">\n",
    "        <span>\n",
    "            <strong>Contenidos</strong>\n",
    "        </span>\n",
    "    </h2>\n",
    "     \n",
    "[<strong>Pregunta #1 </strong>](#p1)\n",
    "    \n",
    "[<strong>Pregunta #2</strong>](#p2)\n",
    "\n",
    "\n",
    "</span>    "
   ]
  },
  {
   "cell_type": "markdown",
   "metadata": {},
   "source": [
    "<span style=\"color: #000000\">\n",
    "<a id='p1'></a>\n",
    "<h2>\n",
    "    <span>\n",
    "        <span style=\"text-decoration: underline;\">\n",
    "            <strong>Pregunta 1: Runge Kutta Orden 4</strong> \n",
    "        </span>\n",
    "    </span>\n",
    "</h2>\n",
    "</span>"
   ]
  },
  {
   "cell_type": "code",
   "execution_count": 8,
   "metadata": {},
   "outputs": [],
   "source": [
    "% \n",
    "%\n",
    "% Entradas: \n",
    "% a = intervalo \n",
    "% b = intervalo\n",
    "% y0 = valor inicial\n",
    "% m = cantidad de puntos\n",
    "%\n",
    "% Salidas:\n",
    "% x_v = vector de los puntos x\n",
    "% v_y = vector de los puntos y\n",
    "%\n",
    "% Se genera la grafica de la funcion\n",
    "%\n",
    "function [x, y] = runge_kutta_4(a, b, y0, N)\n",
    "\n",
    "    % declaracion: funcion f => y' = (x + y) / x %\n",
    "    f = @(x, y) (x + y) / x;\n",
    "    \n",
    "    % calculo: espaciado de todos los elementos de \"a\" %\n",
    "    h = (b - a) / (N - 1);\n",
    "    \n",
    "    % calculo: valores vector de puntos \"x\" %\n",
    "    x = a : h : b;\n",
    "    \n",
    "    % asignacion: vector de puntos \"y\" %\n",
    "    y = [y0];\n",
    "\n",
    "    % iteracion: calculo de los valores \"k\" y \"y\" (N - 1) veces %\n",
    "    for (n = 1 : (N - 1))\n",
    "    \n",
    "        % calculo: \"k_1\" %\n",
    "        k_1 = f(x(n), y(n));\n",
    "        \n",
    "        % calculo: k_1 utilitanzdo \"k_1\" %\n",
    "        k_2 = f(x(n) + h/2, y(n) + h * k_1/2);\n",
    "        \n",
    "        % calculo: k_2 utilitanzdo \"k_1\" y \"k_2\" %\n",
    "        k_3 = f(x(n) + h /2, y(n) + h * (k_2 / 2));\n",
    "        \n",
    "        % calculo: k_1 utilitanzdo \"k_1\", \"k_2\" y \"k_3\" %\n",
    "        k_4 = f(x(n) + h, y(n) + h * k_3);\n",
    "        \n",
    "        % calculo: valores de del vector utilizando\"k_1\", \"k_2\", \"k_3\" y \"k_4\" %\n",
    "        y(n + 1) = y(n) + (h / 6) * (k_1 + 2 * k_2 + 2 * k_3 + k_4);\n",
    "    end\n",
    "\n",
    "    % grafica: dibujo de la grafica mediante los vector \"x\" y \"y\"%\n",
    "    scatter(x, y)\n",
    "    \n",
    "end"
   ]
  },
  {
   "cell_type": "code",
   "execution_count": 9,
   "metadata": {},
   "outputs": [
    {
     "name": "stdout",
     "output_type": "stream",
     "text": [
      "x =\r\n",
      "\r\n",
      " Columns 1 through 7:\r\n",
      "\r\n",
      "     2.0000     2.1633     2.3265     2.4898     2.6531     2.8163     2.9796\r\n",
      "\r\n",
      " Columns 8 through 14:\r\n",
      "\r\n",
      "     3.1429     3.3061     3.4694     3.6327     3.7959     3.9592     4.1224\r\n",
      "\r\n",
      " Columns 15 through 21:\r\n",
      "\r\n",
      "     4.2857     4.4490     4.6122     4.7755     4.9388     5.1020     5.2653\r\n",
      "\r\n",
      " Columns 22 through 28:\r\n",
      "\r\n",
      "     5.4286     5.5918     5.7551     5.9184     6.0816     6.2449     6.4082\r\n",
      "\r\n",
      " Columns 29 through 35:\r\n",
      "\r\n",
      "     6.5714     6.7347     6.8980     7.0612     7.2245     7.3878     7.5510\r\n",
      "\r\n",
      " Columns 36 through 42:\r\n",
      "\r\n",
      "     7.7143     7.8776     8.0408     8.2041     8.3673     8.5306     8.6939\r\n",
      "\r\n",
      " Columns 43 through 49:\r\n",
      "\r\n",
      "     8.8571     9.0204     9.1837     9.3469     9.5102     9.6735     9.8367\r\n",
      "\r\n",
      " Column 50:\r\n",
      "\r\n",
      "    10.0000\r\n",
      "\r\n",
      "y =\r\n",
      "\r\n",
      " Columns 1 through 8:\r\n",
      "\r\n",
      "    4.0000    4.4963    5.0049    5.5250    6.0558    6.5966    7.1470    7.7062\r\n",
      "\r\n",
      " Columns 9 through 16:\r\n",
      "\r\n",
      "    8.2740    8.8498    9.4333   10.0242   10.6221   11.2267   11.8377   12.4550\r\n",
      "\r\n",
      " Columns 17 through 24:\r\n",
      "\r\n",
      "   13.0783   13.7074   14.3421   14.9821   15.6274   16.2777   16.9330   17.5930\r\n",
      "\r\n",
      " Columns 25 through 32:\r\n",
      "\r\n",
      "   18.2576   18.9268   19.6003   20.2782   20.9601   21.6461   22.3361   23.0300\r\n",
      "\r\n",
      " Columns 33 through 40:\r\n",
      "\r\n",
      "   23.7276   24.4289   25.1338   25.8423   26.5542   27.2695   27.9881   28.7100\r\n",
      "\r\n",
      " Columns 41 through 48:\r\n",
      "\r\n",
      "   29.4350   30.1632   30.8944   31.6286   32.3658   33.1059   33.8489   34.5946\r\n",
      "\r\n",
      " Columns 49 and 50:\r\n",
      "\r\n",
      "   35.3432   36.0944\r\n",
      "\r\n"
     ]
    },
    {
     "data": {
      "image/png": "[encoded data removed]",
      "text/plain": [
       "<IPython.core.display.Image object>"
      ]
     },
     "metadata": {},
     "output_type": "display_data"
    }
   ],
   "source": [
    "a = 2;\n",
    "b = 10;\n",
    "y0 = 4;\n",
    "N = 50;\n",
    "\n",
    "[x, y] = runge_kutta_4(a, b, y0, N)"
   ]
  },
  {
   "cell_type": "markdown",
   "metadata": {},
   "source": [
    "<span style=\"color: #000000\">\n",
    "<a id='p2'></a>\n",
    "<h2>\n",
    "    <span>\n",
    "        <span style=\"text-decoration: underline;\">\n",
    "            <strong>Pregunta 2: Método de Rayleigh</strong> \n",
    "        </span>\n",
    "    </span>\n",
    "</h2>\n",
    "</span>"
   ]
  },
  {
   "cell_type": "code",
   "execution_count": null,
   "metadata": {},
   "outputs": [],
   "source": []
  },
  {
   "cell_type": "markdown",
   "metadata": {},
   "source": [
    "<h1 style=\"text-align: center; color: #000000;\">\n",
    "    <strong>Fin</strong>\n",
    "</h1>"
   ]
  }
 ],
 "metadata": {
  "kernelspec": {
   "display_name": "Octave",
   "language": "octave",
   "name": "octave"
  },
  "language_info": {
   "file_extension": ".m",
   "help_links": [
    {
     "text": "GNU Octave",
     "url": "https://www.gnu.org/software/octave/support.html"
    },
    {
     "text": "Octave Kernel",
     "url": "https://github.com/Calysto/octave_kernel"
    },
    {
     "text": "MetaKernel Magics",
     "url": "https://metakernel.readthedocs.io/en/latest/source/README.html"
    }
   ],
   "mimetype": "text/x-octave",
   "name": "octave",
   "version": "5.2.0"
  }
 },
 "nbformat": 4,
 "nbformat_minor": 4
}
